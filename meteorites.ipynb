{
 "cells": [
  {
   "cell_type": "code",
   "execution_count": 1,
   "metadata": {},
   "outputs": [],
   "source": [
    "# ensure our graphs are displayed inline\n",
    "%matplotlib inline"
   ]
  },
  {
   "cell_type": "code",
   "execution_count": 12,
   "metadata": {},
   "outputs": [],
   "source": [
    "import os\n",
    "import pandas as pd\n",
    "import matplotlib.pyplot as plt\n",
    "import seaborn as sb\n",
    "import numpy as np\n",
    "import folium\n",
    "from folium import plugins\n",
    "from folium.plugins import HeatMap\n",
    "from folium.plugins import MarkerCluster"
   ]
  },
  {
   "cell_type": "code",
   "execution_count": 3,
   "metadata": {},
   "outputs": [],
   "source": [
    "# useful to define where we'll be storing our data\n",
    "data_directory = \"data/\"\n",
    "\n",
    "# useful to define where we'll be storing our output\n",
    "output_directory = \"output/\""
   ]
  },
  {
   "cell_type": "markdown",
   "metadata": {},
   "source": [
    "## Data Acquisition"
   ]
  },
  {
   "cell_type": "markdown",
   "metadata": {},
   "source": [
    "First we'll create a `Pandas.DataFrame` out of a `json` file hosted by NASA."
   ]
  },
  {
   "cell_type": "code",
   "execution_count": 5,
   "metadata": {},
   "outputs": [],
   "source": [
    "# Data from NASA on meteorite landings\n",
    "df = pd.read_json(\"https://data.nasa.gov/resource/y77d-th95.json\", )"
   ]
  },
  {
   "cell_type": "markdown",
   "metadata": {},
   "source": [
    "Now we'll simply do some high level overview of the data."
   ]
  },
  {
   "cell_type": "markdown",
   "metadata": {},
   "source": [
    "## Initial Data High Level View\n",
    "\n",
    "I like to always start out by looking at the thirty thousand foot view of any data set."
   ]
  },
  {
   "cell_type": "code",
   "execution_count": null,
   "metadata": {},
   "outputs": [],
   "source": [
    "df.info()"
   ]
  },
  {
   "cell_type": "code",
   "execution_count": null,
   "metadata": {},
   "outputs": [],
   "source": [
    "df.describe()"
   ]
  },
  {
   "cell_type": "code",
   "execution_count": null,
   "metadata": {},
   "outputs": [],
   "source": [
    "df.head()"
   ]
  },
  {
   "cell_type": "markdown",
   "metadata": {},
   "source": [
    "We see twleve columns:\n",
    "* five floats\n",
    "* six strings or mixed data\n",
    "* one int64\n",
    "\n",
    "Additionally, the `geolocation` column is JSON, which is something I've never worked with inside of a Pandas DataFrame. Also, we may be able to leverage Pandas' DateTime `dtype` for the `year` column."
   ]
  },
  {
   "cell_type": "markdown",
   "metadata": {},
   "source": [
    "## Removing Redundant Data\n",
    "\n",
    "As `geolocation`'s data is already represented in `reclat` and `reclong`, we'll simply remove it. We're specifically picking this column as its a more complex JSON data type, instead of already separated columns."
   ]
  },
  {
   "cell_type": "code",
   "execution_count": 6,
   "metadata": {},
   "outputs": [],
   "source": [
    "df.drop(labels=\"geolocation\", axis=1, inplace=True)"
   ]
  },
  {
   "cell_type": "markdown",
   "metadata": {},
   "source": [
    "## `NaN` Inspection\n",
    "\n",
    "Lets look at all columns that have atleast one `NaN` value."
   ]
  },
  {
   "cell_type": "code",
   "execution_count": null,
   "metadata": {},
   "outputs": [],
   "source": [
    "nan_columns = df.columns[df.isna().any()].tolist()\n",
    "nan_columns"
   ]
  },
  {
   "cell_type": "markdown",
   "metadata": {},
   "source": [
    "We see that seven of the tweleve columns have atleast one `NaN` value. Lets look into how many `NaN` values are in each column so we can get an idea on how to proceed with cleaning."
   ]
  },
  {
   "cell_type": "code",
   "execution_count": null,
   "metadata": {},
   "outputs": [],
   "source": [
    "nan_column_counts = {}\n",
    "\n",
    "for nan_column in nan_columns:\n",
    "    nan_column_counts[nan_column] = sum(pd.isnull(df[nan_column]))\n",
    "    \n",
    "nan_column_counts"
   ]
  },
  {
   "cell_type": "markdown",
   "metadata": {},
   "source": [
    "We see here that number of `NaN` values ranges from as high as 867, to as low as 1. We recall that there are 1000 rows in this data set, so that means most of the rows have `:@computed_region_cbhk_fwbd` and `:@computed_region_nnqa_25f4` as an `NaN` value.\n",
    "\n",
    "We'll have to handle these after performing some more data inspection."
   ]
  },
  {
   "cell_type": "markdown",
   "metadata": {},
   "source": [
    "## Unique Values Inspection\n",
    "\n",
    "We'll now look at the unique values.\n",
    "\n",
    "_The following cell has been made a raw cell to avoid its large output from printing._"
   ]
  },
  {
   "cell_type": "raw",
   "metadata": {},
   "source": [
    "for column in list(df):\n",
    "    print(f\"{column} has {df[column].nunique()} unique values:\")\n",
    "    print(df[column].unique())"
   ]
  },
  {
   "cell_type": "markdown",
   "metadata": {},
   "source": [
    "## `NaN` Handling\n",
    "\n",
    "Since we're not building any specific model, we're going to leave the `NaN` values as they are. I just want to note that usually you'll have to handle the `NaN` values in a data set, or at the very least, be aware that they exist. There are many techniques for handling `NaN` values, but they won't be disucssed here."
   ]
  },
  {
   "cell_type": "markdown",
   "metadata": {},
   "source": [
    "## Geospatial Visualizations\n",
    "\n",
    "Now we're going to work on creating geospatial visualizations for our data set. These can be incredibly helpful for exploring your data, as well as when it comes time to present or share your work.\n",
    "\n",
    "These visualizations can be handy as they can help you quickly answer questions. For example, currently we don't know how many meteorites land in the oceans. We'd expect that many to, infact probably more often than land, but we don't have an easy way to determine this. Once we have our visualizations created, we can quickly answer this question."
   ]
  },
  {
   "cell_type": "markdown",
   "metadata": {},
   "source": [
    "### Data Preparation\n",
    "\n",
    "First, we'll need to prepare a dataframe of our latitude and longitude values"
   ]
  },
  {
   "cell_type": "code",
   "execution_count": 7,
   "metadata": {},
   "outputs": [],
   "source": [
    "# Create a new dataframe of just the lat and long columns\n",
    "geo_df = df.dropna(axis=0, how=\"any\", subset=['reclat', 'reclong'])\n",
    "geo_df = geo_df.set_index(\"id\") # we'll preserve the id from the data set"
   ]
  },
  {
   "cell_type": "code",
   "execution_count": 8,
   "metadata": {},
   "outputs": [
    {
     "data": {
      "text/html": [
       "<div>\n",
       "<style scoped>\n",
       "    .dataframe tbody tr th:only-of-type {\n",
       "        vertical-align: middle;\n",
       "    }\n",
       "\n",
       "    .dataframe tbody tr th {\n",
       "        vertical-align: top;\n",
       "    }\n",
       "\n",
       "    .dataframe thead th {\n",
       "        text-align: right;\n",
       "    }\n",
       "</style>\n",
       "<table border=\"1\" class=\"dataframe\">\n",
       "  <thead>\n",
       "    <tr style=\"text-align: right;\">\n",
       "      <th></th>\n",
       "      <th>:@computed_region_cbhk_fwbd</th>\n",
       "      <th>:@computed_region_nnqa_25f4</th>\n",
       "      <th>fall</th>\n",
       "      <th>mass</th>\n",
       "      <th>name</th>\n",
       "      <th>nametype</th>\n",
       "      <th>recclass</th>\n",
       "      <th>reclat</th>\n",
       "      <th>reclong</th>\n",
       "      <th>year</th>\n",
       "    </tr>\n",
       "    <tr>\n",
       "      <th>id</th>\n",
       "      <th></th>\n",
       "      <th></th>\n",
       "      <th></th>\n",
       "      <th></th>\n",
       "      <th></th>\n",
       "      <th></th>\n",
       "      <th></th>\n",
       "      <th></th>\n",
       "      <th></th>\n",
       "      <th></th>\n",
       "    </tr>\n",
       "  </thead>\n",
       "  <tbody>\n",
       "    <tr>\n",
       "      <th>1</th>\n",
       "      <td>NaN</td>\n",
       "      <td>NaN</td>\n",
       "      <td>Fell</td>\n",
       "      <td>21.0</td>\n",
       "      <td>Aachen</td>\n",
       "      <td>Valid</td>\n",
       "      <td>L5</td>\n",
       "      <td>50.77500</td>\n",
       "      <td>6.08333</td>\n",
       "      <td>1880-01-01T00:00:00.000</td>\n",
       "    </tr>\n",
       "    <tr>\n",
       "      <th>2</th>\n",
       "      <td>NaN</td>\n",
       "      <td>NaN</td>\n",
       "      <td>Fell</td>\n",
       "      <td>720.0</td>\n",
       "      <td>Aarhus</td>\n",
       "      <td>Valid</td>\n",
       "      <td>H6</td>\n",
       "      <td>56.18333</td>\n",
       "      <td>10.23333</td>\n",
       "      <td>1951-01-01T00:00:00.000</td>\n",
       "    </tr>\n",
       "    <tr>\n",
       "      <th>6</th>\n",
       "      <td>NaN</td>\n",
       "      <td>NaN</td>\n",
       "      <td>Fell</td>\n",
       "      <td>107000.0</td>\n",
       "      <td>Abee</td>\n",
       "      <td>Valid</td>\n",
       "      <td>EH4</td>\n",
       "      <td>54.21667</td>\n",
       "      <td>-113.00000</td>\n",
       "      <td>1952-01-01T00:00:00.000</td>\n",
       "    </tr>\n",
       "    <tr>\n",
       "      <th>10</th>\n",
       "      <td>NaN</td>\n",
       "      <td>NaN</td>\n",
       "      <td>Fell</td>\n",
       "      <td>1914.0</td>\n",
       "      <td>Acapulco</td>\n",
       "      <td>Valid</td>\n",
       "      <td>Acapulcoite</td>\n",
       "      <td>16.88333</td>\n",
       "      <td>-99.90000</td>\n",
       "      <td>1976-01-01T00:00:00.000</td>\n",
       "    </tr>\n",
       "    <tr>\n",
       "      <th>370</th>\n",
       "      <td>NaN</td>\n",
       "      <td>NaN</td>\n",
       "      <td>Fell</td>\n",
       "      <td>780.0</td>\n",
       "      <td>Achiras</td>\n",
       "      <td>Valid</td>\n",
       "      <td>L6</td>\n",
       "      <td>-33.16667</td>\n",
       "      <td>-64.95000</td>\n",
       "      <td>1902-01-01T00:00:00.000</td>\n",
       "    </tr>\n",
       "  </tbody>\n",
       "</table>\n",
       "</div>"
      ],
      "text/plain": [
       "     :@computed_region_cbhk_fwbd  :@computed_region_nnqa_25f4  fall      mass  \\\n",
       "id                                                                              \n",
       "1                            NaN                          NaN  Fell      21.0   \n",
       "2                            NaN                          NaN  Fell     720.0   \n",
       "6                            NaN                          NaN  Fell  107000.0   \n",
       "10                           NaN                          NaN  Fell    1914.0   \n",
       "370                          NaN                          NaN  Fell     780.0   \n",
       "\n",
       "         name nametype     recclass    reclat    reclong  \\\n",
       "id                                                         \n",
       "1      Aachen    Valid           L5  50.77500    6.08333   \n",
       "2      Aarhus    Valid           H6  56.18333   10.23333   \n",
       "6        Abee    Valid          EH4  54.21667 -113.00000   \n",
       "10   Acapulco    Valid  Acapulcoite  16.88333  -99.90000   \n",
       "370   Achiras    Valid           L6 -33.16667  -64.95000   \n",
       "\n",
       "                        year  \n",
       "id                            \n",
       "1    1880-01-01T00:00:00.000  \n",
       "2    1951-01-01T00:00:00.000  \n",
       "6    1952-01-01T00:00:00.000  \n",
       "10   1976-01-01T00:00:00.000  \n",
       "370  1902-01-01T00:00:00.000  "
      ]
     },
     "execution_count": 8,
     "metadata": {},
     "output_type": "execute_result"
    }
   ],
   "source": [
    "geo_df.head()"
   ]
  },
  {
   "cell_type": "markdown",
   "metadata": {},
   "source": [
    "### Creation of the Visualizations"
   ]
  },
  {
   "cell_type": "markdown",
   "metadata": {},
   "source": [
    "Everything looks good.\n",
    "\n",
    "Now we'll create our visualizations. First lets make one with every row as a single marker. This may be overkill."
   ]
  },
  {
   "cell_type": "code",
   "execution_count": null,
   "metadata": {},
   "outputs": [],
   "source": [
    "markers_map = folium.Map(zoom_start=6, tiles=\"CartoDB dark_matter\")\n",
    "\n",
    "for coord in [tuple(x) for x in geo_df.to_records(index=False)]:\n",
    "    latitude = coord[7]\n",
    "    longitude = coord[8]\n",
    "    mass = coord[3]\n",
    "    name = coord[4]\n",
    "    rec_class = coord[6]\n",
    "    index = geo_df[(geo_df[\"reclat\"] == latitude) & (geo_df[\"reclong\"] == longitude)].index.tolist()[0]    \n",
    "    \n",
    "    html = f\"\"\"\n",
    "    <table border=\"1\">\n",
    "        <tr>\n",
    "            <th> Index </th>\n",
    "            <th> Latitude </th>\n",
    "            <th> Longitude </th>\n",
    "            <th> Mass </th>\n",
    "            <th> Name </th>\n",
    "            <th> Recclass </th>\n",
    "        </tr>\n",
    "        <tr> \n",
    "            <td> {index} </td> \n",
    "            <td> {latitude} </td> \n",
    "            <td> {longitude} </td> \n",
    "            <td> {mass} </td>\n",
    "            <td> {name} </td>\n",
    "            <td> {rec_class} </td>\n",
    "        </tr>\n",
    "    </table>\"\"\"\n",
    "    iframe = folium.IFrame(html=html, width=375, height=125)\n",
    "    popup = folium.Popup(iframe, max_width=375)\n",
    "    \n",
    "    folium.Marker(location=[latitude, longitude], popup=popup).add_to(markers_map)\n",
    "\n",
    "markers_map.save(output_directory + \"markers_map.html\")\n",
    "markers_map"
   ]
  },
  {
   "cell_type": "markdown",
   "metadata": {},
   "source": [
    "After seeing the visualization, I don't believe showing a single marker for every row is a good idea, as we have so much data that zooming out pretty far makes it difficult to understand what we're looking at. \n",
    "\n",
    "Lets cluster nearby rows to improve readability."
   ]
  },
  {
   "cell_type": "code",
   "execution_count": null,
   "metadata": {},
   "outputs": [],
   "source": [
    "clusters_map = folium.Map(zoom_start=6, tiles=\"CartoDB dark_matter\")\n",
    "\n",
    "clusters_map_cluster = MarkerCluster().add_to(clusters_map)\n",
    "\n",
    "for coord in [tuple(x) for x in geo_df.to_records(index=False)]:\n",
    "    latitude = coord[7]\n",
    "    longitude = coord[8]\n",
    "    mass = coord[3]\n",
    "    name = coord[4]\n",
    "    rec_class = coord[6]\n",
    "    index = geo_df[(geo_df[\"reclat\"] == latitude) & (geo_df[\"reclong\"] == longitude)].index.tolist()[0]    \n",
    "    \n",
    "    html = f\"\"\"\n",
    "    <table border=\"1\">\n",
    "        <tr>\n",
    "            <th> Index </th>\n",
    "            <th> Latitude </th>\n",
    "            <th> Longitude </th>\n",
    "            <th> Mass </th>\n",
    "            <th> Name </th>\n",
    "            <th> Recclass </th>\n",
    "        </tr>\n",
    "        <tr> \n",
    "            <td> {index} </td> \n",
    "            <td> {latitude} </td> \n",
    "            <td> {longitude} </td> \n",
    "            <td> {mass} </td>\n",
    "            <td> {name} </td>\n",
    "            <td> {rec_class} </td>\n",
    "        </tr>\n",
    "    </table>\"\"\"\n",
    "    iframe = folium.IFrame(html=html, width=375, height=125)\n",
    "    popup = folium.Popup(iframe, max_width=375)\n",
    "    \n",
    "    folium.Marker(location=[latitude, longitude], popup=popup).add_to(clusters_map_cluster)\n",
    "\n",
    "clusters_map.save(output_directory + \"clusters_map.html\")\n",
    "clusters_map"
   ]
  },
  {
   "cell_type": "markdown",
   "metadata": {},
   "source": [
    "This looks much better.\n",
    "\n",
    "Just for kicks, lets make a heat map as well!"
   ]
  },
  {
   "cell_type": "code",
   "execution_count": null,
   "metadata": {},
   "outputs": [],
   "source": [
    "heat_map = folium.Map(location=[51.5074, 0.1278], zoom_start = 3, tiles=\"CartoDB dark_matter\") \n",
    "\n",
    "# Ensure you're handing it floats\n",
    "geo_df['latitude'] = geo_df[\"reclat\"].astype(float)\n",
    "geo_df['longitude'] = geo_df[\"reclong\"].astype(float)\n",
    "\n",
    "# Filter the DF for rows, then columns, then remove NaNs\n",
    "heat_df = geo_df[['latitude', 'longitude']]\n",
    "heat_df = heat_df.dropna(axis=0, subset=['latitude','longitude'])\n",
    "\n",
    "# List comprehension to make out list of lists\n",
    "heat_data = [[row['latitude'],row['longitude']] for index, row in heat_df.iterrows()]\n",
    "\n",
    "# Plot it on the map\n",
    "HeatMap(heat_data).add_to(heat_map)\n",
    "\n",
    "# Display the map\n",
    "heat_map.save(output_directory + \"heat_map.html\")\n",
    "heat_map"
   ]
  },
  {
   "cell_type": "markdown",
   "metadata": {},
   "source": [
    "We see here that most of the meteorites land on land. My prediction is that meteorites do infact land in water, probably more often than land due to water's higher proportion on Earth, but all the meteorites must be reported by humans, which explains all of the data points existing on land.\n",
    "\n",
    "I'd go as far to sar that higher populated areas are more likely to report meteorites, as well as non first world countries."
   ]
  },
  {
   "cell_type": "markdown",
   "metadata": {},
   "source": [
    "## Cencus Data\n",
    "\n",
    "Now we'll explore the notion that higher populated areas are more likely to report meteorites, visually. We'll do that by combing population data gathered from a census.\n",
    "\n",
    "Lets start by redoing our first graphic, where every meteorite got its own marker, and we'll overlay the poplation of the world by country."
   ]
  },
  {
   "cell_type": "code",
   "execution_count": null,
   "metadata": {},
   "outputs": [],
   "source": [
    "markers_census_layered_map = folium.Map(location=[df['reclat'].mean(), df['reclong'].mean()], zoom_start=6, tiles='Mapbox bright')\n",
    "\n",
    "clusters_map_cluster = MarkerCluster().add_to(markers_census_layered_map)\n",
    "\n",
    "fg = folium.FeatureGroup(name=\"Meteorites\")\n",
    "\n",
    "for coord in [tuple(x) for x in geo_df.to_records(index=False)]:\n",
    "    latitude = coord[7]\n",
    "    longitude = coord[8]\n",
    "    mass = coord[3]\n",
    "    name = coord[4]\n",
    "    rec_class = coord[6]\n",
    "    index = geo_df[(geo_df[\"reclat\"] == latitude) & (geo_df[\"reclong\"] == longitude)].index.tolist()[0]    \n",
    "    \n",
    "    html = f\"\"\"\n",
    "    <table border=\"1\">\n",
    "        <tr>\n",
    "            <th> Index </th>\n",
    "            <th> Latitude </th>\n",
    "            <th> Longitude </th>\n",
    "            <th> Mass </th>\n",
    "            <th> Name </th>\n",
    "            <th> Recclass </th>\n",
    "        </tr>\n",
    "        <tr> \n",
    "            <td> {index} </td> \n",
    "            <td> {latitude} </td> \n",
    "            <td> {longitude} </td> \n",
    "            <td> {mass} </td>\n",
    "            <td> {name} </td>\n",
    "            <td> {rec_class} </td>\n",
    "        </tr>\n",
    "    </table>\"\"\"\n",
    "    iframe = folium.IFrame(html=html, width=375, height=125)\n",
    "    popup = folium.Popup(iframe, max_width=375)\n",
    "    \n",
    "    fg.add_child(folium.Marker(location=[latitude, longitude], popup=popup))\n",
    "\n",
    "world_geojson = os.path.join(data_directory, \"world_geojson_from_ogr.json\")\n",
    "print(world_geojson)\n",
    "\n",
    "world_geojson_data = open(world_geojson, \"r\")\n",
    "print(world_geojson_data)\n",
    "\n",
    "gj = folium.GeoJson(world_geojson_data.read(), name=\"Population\", style_function=lambda x: {\"fillColor\":\"green\" if x[\"properties\"][\"POP2005\"] <= 10000000 else \"orange\" if 10000000 < x[\"properties\"][\"POP2005\"] < 20000000 else \"red\"})\n",
    "\n",
    "markers_census_layered_map.add_child(fg)\n",
    "markers_census_layered_map.add_child(folium.LayerControl())\n",
    "markers_census_layered_map.save(outfile=output_directory + \"markers_census_layered_map.html\")\n",
    "\n",
    "markers_census_layered_map"
   ]
  },
  {
   "cell_type": "code",
   "execution_count": null,
   "metadata": {},
   "outputs": [],
   "source": []
  }
 ],
 "metadata": {
  "kernelspec": {
   "display_name": "meetup",
   "language": "python",
   "name": "meetup"
  },
  "language_info": {
   "codemirror_mode": {
    "name": "ipython",
    "version": 3
   },
   "file_extension": ".py",
   "mimetype": "text/x-python",
   "name": "python",
   "nbconvert_exporter": "python",
   "pygments_lexer": "ipython3",
   "version": "3.6.4"
  }
 },
 "nbformat": 4,
 "nbformat_minor": 2
}
